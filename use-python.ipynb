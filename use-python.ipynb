{
 "cells": [
  {
   "cell_type": "code",
   "execution_count": null,
   "metadata": {},
   "outputs": [],
   "source": [
    "import mysql.connector as connector"
   ]
  },
  {
   "cell_type": "code",
   "execution_count": null,
   "metadata": {},
   "outputs": [],
   "source": [
    "connection = connector.connect(user = \"user_name\", password = \"Password\")"
   ]
  },
  {
   "cell_type": "code",
   "execution_count": null,
   "metadata": {},
   "outputs": [],
   "source": [
    "#create a cursor\n",
    "cursor = connection.cursor()"
   ]
  },
  {
   "cell_type": "code",
   "execution_count": null,
   "metadata": {},
   "outputs": [
    {
     "name": "stdout",
     "output_type": "stream",
     "text": [
      "The database in use is:  littlelemondb\n"
     ]
    }
   ],
   "source": [
    "cursor.execute(\"\"\"USE LittleLemonDB\"\"\")\n",
    "print(\"The database in use is: \", connection.database)"
   ]
  },
  {
   "cell_type": "code",
   "execution_count": null,
   "metadata": {},
   "outputs": [],
   "source": [
    "# Get the names of all the tables using SQL query\n",
    "show_tables_query = \"SHOW TABLES;\" \n",
    "cursor.execute(show_tables_query)"
   ]
  },
  {
   "cell_type": "code",
   "execution_count": null,
   "metadata": {},
   "outputs": [],
   "source": [
    "# Retrieve query results in a variable ‘results’\n",
    "results = cursor.fetchall()"
   ]
  },
  {
   "cell_type": "code",
   "execution_count": null,
   "metadata": {},
   "outputs": [],
   "source": [
    "# Use for loop to print the names of all the tables \n",
    "for table in results:\n",
    "    print(table)\n"
   ]
  },
  {
   "cell_type": "code",
   "execution_count": null,
   "metadata": {},
   "outputs": [
    {
     "name": "stdout",
     "output_type": "stream",
     "text": [
      "('Customer Id', 'Customer FullName', 'PhoneNumber', 'Email')\n"
     ]
    }
   ],
   "source": [
    "query = \"\"\"SELECT  c.Id as \"Customer Id\",\n",
    "\t\t\t\tCONCAT(c.FirstName, c.LastName) as \"Customer FullName\",\n",
    "                c.PhoneNumber,\n",
    "                c.Email\n",
    "\t\tFROM Customers c\n",
    "        INNER JOIN Bookings b\n",
    "\t\t\tON c.Id = b.Customer\n",
    "\t\tINNER JOIN  Orders o\n",
    "\t\t\tON o.Booking = b.Id\n",
    "\t\tINNER JOIN MenuItemsOrdered mio\n",
    "\t\t\tON o.Id = mio.Orders_Id\n",
    "\t\tINNER JOIN Menu_Has_MenuItems mm\n",
    "\t\t\tON mm.Id = mio.Menu_has_MenuItems_Id\n",
    "\t\tINNER JOIN MenuItems mi\n",
    "\t\t\tON mi.Id = mm.MenuItems_Id\n",
    "        GROUP BY  c.Id, o.Id\n",
    "        HAVING SUM(mi.Price*mio.Quantity );\"\"\"\n",
    "\n",
    "# Execute query \n",
    "cursor.execute(query)\n",
    "\n",
    "results = cursor.fetchall()   \n",
    "\n",
    "# Retrieve column names\n",
    "cols = cursor.column_names\n",
    "\n",
    "# Print column names and records from results using for loop\n",
    "print(cols)\n",
    "for result in results:\n",
    "    print(result)"
   ]
  }
 ],
 "metadata": {
  "kernelspec": {
   "display_name": "base",
   "language": "python",
   "name": "python3"
  },
  "language_info": {
   "codemirror_mode": {
    "name": "ipython",
    "version": 3
   },
   "file_extension": ".py",
   "mimetype": "text/x-python",
   "name": "python",
   "nbconvert_exporter": "python",
   "pygments_lexer": "ipython3",
   "version": "3.9.16 | packaged by conda-forge | (main, Feb  1 2023, 21:38:11) \n[Clang 14.0.6 ]"
  },
  "orig_nbformat": 4,
  "vscode": {
   "interpreter": {
    "hash": "94a03219585cdea76f008f42dc7ae7f0cad86ca5a11e211182f75a2f69298136"
   }
  }
 },
 "nbformat": 4,
 "nbformat_minor": 2
}
